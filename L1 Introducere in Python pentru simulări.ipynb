{
 "cells": [
  {
   "cell_type": "markdown",
   "metadata": {
    "cell_id": "19ee672101c44af0a9372982088643be",
    "deepnote_cell_type": "markdown"
   },
   "source": [
    "Nume, Prenume, Grupă:"
   ]
  },
  {
   "cell_type": "code",
   "execution_count": null,
   "metadata": {
    "cell_id": "2d673fa9ffd14c49ad6ca2f7f47836a4",
    "deepnote_cell_type": "code"
   },
   "outputs": [],
   "source": [
    "Damian, Constantin-Crisitan, E303"
   ]
  },
  {
   "cell_type": "markdown",
   "metadata": {
    "cell_id": "e0db39846c3d4826b49533bce937aaa1",
    "deepnote_cell_type": "markdown"
   },
   "source": [
    "<a target=\"_blank\" href=\"https://colab.research.google.com/github/CrisDamian/LaboratorTTI/blob/main/L1%20Introducere%20in%20Python%20pentru%20simul%C4%83ri.ipynb\">\n",
    "  <img src=\"https://colab.research.google.com/assets/colab-badge.svg\" alt=\"Open In Colab\"/>\n",
    "</a>"
   ]
  },
  {
   "cell_type": "markdown",
   "metadata": {
    "cell_id": "e0db39846c3d4826b49533bce937aaa1",
    "deepnote_cell_type": "markdown"
   },
   "source": [
    "Obiectivul lucrării\n",
    "------------------\n",
    "\n",
    "Obiectivul acestei lucrări este familiarizarea cu uneltele folosite în laborator. \n",
    "\n",
    "Informații generale\n",
    "--------------------\n",
    "\n",
    "Limbajul [Python] este un limbaj de programare interpretat versatil și ușor de învățat. Acesta este folosit în multe aplicații cum ar fi analiza datelor, realizarea simulărilor, testarea produselor software și hardware, implementarea rapidă a aplicatiilor software, etc. \n",
    "\n",
    "[Python]: https://docs.python.org/3/tutorial/\n",
    "[Numpy]: https://numpy.org/doc/stable/user/quickstart.html\n",
    "[Matplotlib]: https://matplotlib.org/\n",
    "\n",
    "Mediul [Jupyter-notebook][Jupyter] este un mediu de programare interactiv ce a fost conceput pentru simulări și analiza datelor. Mediul permite stocarea codului, datelor și a textului într-un format ce poate fie citit ca un raport sau poate rulat ca un program. Formatul nativ pentru Jupyter-notebook este `.ipynb`. Un fișier reprezintă un document, numit și caiet (notebook).\n",
    "\n",
    "[Jupyter]: https://jupyter-notebook.readthedocs.io/en/stable/"
   ]
  },
  {
   "cell_type": "markdown",
   "metadata": {
    "cell_id": "96bd7955ef624e919a309bd48ff85d06",
    "deepnote_cell_type": "markdown"
   },
   "source": [
    "Celule, scriere și execuție \n",
    "---------------------------\n",
    "\n",
    "Caietele alcătuite din celule ce pot fi celule de cod sau celule de text. \n",
    "Se pot evidenția celulele clicuind pe aceste și se pot edita prin dublu-clic. Celulele de text sunt interpretate cu un limbaj numit [Markdown] care formatează textul într-o formă mai ușor de citit.\n",
    "\n",
    "[Markdown]: https://www.markdownguide.org\n",
    "\n",
    "Celulele de cod sunt interpretate cu Python și sub celulă se scrie ceea ce afișează codul respectiv. Pentru a executa o celulă de cod se apasă Shift+Enter. Ca în exemplul de mai jos:"
   ]
  },
  {
   "cell_type": "code",
   "execution_count": null,
   "metadata": {
    "cell_id": "6ae81a8e28e549f488852a04cd5eaf74",
    "deepnote_cell_type": "code"
   },
   "outputs": [],
   "source": [
    "print(\"Hello, world!\") # Tot ce e după diez e un comentariu"
   ]
  },
  {
   "cell_type": "markdown",
   "metadata": {
    "cell_id": "19d6c804d47d4ab1ab9985380edbb68f",
    "deepnote_cell_type": "markdown"
   },
   "source": [
    "Dacă ultima expresie nu conține o atribuire atunci este afișată automat. "
   ]
  },
  {
   "cell_type": "code",
   "execution_count": null,
   "metadata": {
    "cell_id": "2d813377d815408293762d9fdcf4a69f",
    "deepnote_cell_type": "code"
   },
   "outputs": [],
   "source": [
    "3 + 2"
   ]
  },
  {
   "cell_type": "markdown",
   "metadata": {
    "cell_id": "d6b6427cacbc4cd6b757500e54c8d7ff",
    "deepnote_cell_type": "markdown",
    "tags": []
   },
   "source": [
    "Tipurile de date numerice principale sunt `int` pentru întregi cu semn și `float` pentru numere cu virgulă mobilă."
   ]
  },
  {
   "cell_type": "code",
   "execution_count": null,
   "metadata": {
    "cell_id": "e56b9a7a70224938bc8a9fa8eb065ae9",
    "deepnote_cell_type": "code"
   },
   "outputs": [],
   "source": [
    "3*2"
   ]
  },
  {
   "cell_type": "code",
   "execution_count": null,
   "metadata": {
    "cell_id": "d596b262ff5c4bd88835aefd5d333186",
    "deepnote_cell_type": "code"
   },
   "outputs": [],
   "source": [
    "3**2 # 3 la puterea 2"
   ]
  },
  {
   "cell_type": "code",
   "execution_count": null,
   "metadata": {
    "cell_id": "0358ff0538794aacb08f6623e4c81aac",
    "deepnote_cell_type": "code"
   },
   "outputs": [],
   "source": [
    "3 / 2  # impărțire cu vigulă mobilă"
   ]
  },
  {
   "cell_type": "code",
   "execution_count": null,
   "metadata": {
    "cell_id": "ad9b302282ea447794ead19039f0b889",
    "deepnote_cell_type": "code"
   },
   "outputs": [],
   "source": [
    "3 // 2 # împărțire întreagă"
   ]
  },
  {
   "cell_type": "code",
   "execution_count": null,
   "metadata": {
    "cell_id": "c815d9e0e184473f8cde73218b603207",
    "deepnote_cell_type": "code"
   },
   "outputs": [],
   "source": [
    "3 % 2  # Rest de împărțire "
   ]
  },
  {
   "cell_type": "markdown",
   "metadata": {
    "cell_id": "d0450c3c58cd4fce993172913fc44d65",
    "deepnote_cell_type": "markdown"
   },
   "source": [
    "Atribuirea se face în felul următor. Nu este necesară declararea variabilelor."
   ]
  },
  {
   "cell_type": "code",
   "execution_count": null,
   "metadata": {
    "cell_id": "211fa22754dc4499a05732a49aa261a9",
    "deepnote_cell_type": "code"
   },
   "outputs": [],
   "source": [
    "a = 3 + 3 "
   ]
  },
  {
   "cell_type": "markdown",
   "metadata": {
    "cell_id": "b214cd9f34ee4f318b8c6f7ef47f046c",
    "deepnote_cell_type": "markdown"
   },
   "source": [
    "Variabilele se pot apela din alte celule."
   ]
  },
  {
   "cell_type": "code",
   "execution_count": null,
   "metadata": {
    "cell_id": "a7ec40a1790241ff8f49cb07d12792a9",
    "deepnote_cell_type": "code"
   },
   "outputs": [],
   "source": [
    "a + 1"
   ]
  },
  {
   "cell_type": "markdown",
   "metadata": {
    "cell_id": "39db5b084eac4ed4b987f97d00a91a30",
    "deepnote_cell_type": "markdown"
   },
   "source": [
    "### Booleeni\n",
    "\n",
    "Python are un tip de date pentru valorile de adevăr, anume `bool`. De regulă, acesta este resultatul unei comparații."
   ]
  },
  {
   "cell_type": "code",
   "execution_count": null,
   "metadata": {
    "cell_id": "b4554471263d4288b901b6c438a7cfd9",
    "deepnote_cell_type": "code"
   },
   "outputs": [],
   "source": [
    "print(\"3 <  4:\", 3 < 4)\n",
    "print(\"3 <= 4:\", 3 <= 4)\n",
    "print(\"3 == 4:\", 3 == 4)\n",
    "print(\"3 >= 4:\", 3 >= 4)\n",
    "print(\"3 >  4:\", 3 > 4)"
   ]
  },
  {
   "cell_type": "markdown",
   "metadata": {
    "cell_id": "88b13d21972642cbaf3854f92cd58ab7",
    "deepnote_cell_type": "markdown"
   },
   "source": [
    "Aceste valori se pot păstra în variabile."
   ]
  },
  {
   "cell_type": "code",
   "execution_count": null,
   "metadata": {
    "cell_id": "7677da3361554381afdd9198eb182627",
    "deepnote_cell_type": "code"
   },
   "outputs": [],
   "source": [
    "o_conditie = (3 > 4)\n",
    "print('3 > 4:', o_conditie)\n",
    "o_conditie = True\n",
    "print('Adevărat:', o_conditie)\n",
    "o_conditie = False\n",
    "print('Fals:', o_conditie)\n"
   ]
  },
  {
   "cell_type": "markdown",
   "metadata": {
    "cell_id": "cbfee4cf80aa47c6b9b342cb1a5cb639",
    "deepnote_cell_type": "markdown"
   },
   "source": [
    "Valorile booleene se pot combina folosind operatori booleni."
   ]
  },
  {
   "cell_type": "code",
   "execution_count": null,
   "metadata": {
    "cell_id": "27f7dcfeb18c491f9bbe12a15eb4b65c",
    "deepnote_cell_type": "code"
   },
   "outputs": [],
   "source": [
    "print(\"2 < 3 and 3 < 5 :\", 2 < 3 and 3 <5 )\n",
    "print(\"2 < 3 or 2 > 5 :\", 2 < 3 or 2 > 5)\n",
    "print(\"not 4 < 5 :\", not 4 < 5)"
   ]
  },
  {
   "cell_type": "markdown",
   "metadata": {
    "cell_id": "4366496336284a188779ca9ebd7477a9",
    "deepnote_cell_type": "markdown"
   },
   "source": [
    "Structuri de execuție condiționată\n",
    "--------------------\n",
    "\n",
    "Python are o sintaxă specială pentru sturcturile de control. Interiorul unei structuri se marchează cu o indentare de un tab sau 4 spații.\n",
    "\n",
    "Structura `if` completă este prezentată mai jos. Cuvăntul cheie `if` primește o valoare booleană drept condiție și execută blocul de desuptul ei dacă este adevărată. Dacă nu, se verifică condițiile de după `elif` și se execută blocul corespunzător și dacă nici o condiție nu este îndeplinită se execută blocul de sub `else`."
   ]
  },
  {
   "cell_type": "code",
   "execution_count": null,
   "metadata": {
    "cell_id": "76432048772747929e31f7b7c3aee948",
    "deepnote_cell_type": "code"
   },
   "outputs": [],
   "source": [
    "a = int(input(\"Alege un număr:\"))\n",
    "if a == 3:\n",
    "    print(\"Egal cu 3\")\n",
    "elif a > 3:\n",
    "    print(\"Mai mare ca 3\")\n",
    "elif a < 3:\n",
    "    print(\"Mai mic ca 3\")\n",
    "else:\n",
    "    print(\"Nu este un număr\")\n",
    "    "
   ]
  },
  {
   "cell_type": "markdown",
   "metadata": {
    "cell_id": "409072e7fbe64447b5b6482e23805723",
    "deepnote_cell_type": "markdown"
   },
   "source": [
    "Blocurile `elif` și `else` se pot omite."
   ]
  },
  {
   "cell_type": "code",
   "execution_count": null,
   "metadata": {
    "cell_id": "0032ea60a8074d7287e266199c4fbd19",
    "deepnote_cell_type": "code"
   },
   "outputs": [],
   "source": [
    "a = int(input(\"Alege un număr:\"))\n",
    "if a > 5:\n",
    "    print(\"Mai mare ca 5\")\n",
    "else:\n",
    "    print(\"Mai mic sau egal cu 5\")\n",
    "\n",
    "if a < 3:\n",
    "    print(\"Mai mic ca 3\")\n"
   ]
  },
  {
   "cell_type": "markdown",
   "metadata": {
    "cell_id": "161c02d5700f4030a24020000ef3742c",
    "deepnote_cell_type": "markdown"
   },
   "source": [
    "### Bucle de execuție\n",
    "\n",
    "\n",
    "Nu există structuri do-while și until. Bucla `while` se comportă ca în C. "
   ]
  },
  {
   "cell_type": "code",
   "execution_count": null,
   "metadata": {
    "cell_id": "374e501992fc4f009d4d710d030c641d",
    "deepnote_cell_type": "code"
   },
   "outputs": [],
   "source": [
    "a = 1\n",
    "while a <= 10:\n",
    "    a = a + 1\n",
    "    print(a)\n",
    "    "
   ]
  },
  {
   "cell_type": "markdown",
   "metadata": {
    "cell_id": "b0f8c59b3ba14e9a94d02310964eafe5",
    "deepnote_cell_type": "markdown"
   },
   "source": [
    "Structura `for` utilizează un index o funcția specială `range`. \n",
    "Expresia `range(a,b,c)` face ca indexul să porneasca de la valoarea lui `a`, \n",
    "să se incrementeze la sfârșitul fiecărei iterații cu `c` și \n",
    "să coninue cât timp indexul este mai mic decât `b`. Variantele scurte sunt `range(a,b)` echivalent cu `range(a,b,1)` și `range(b)` echivalent cu `range(0,b,1)`."
   ]
  },
  {
   "cell_type": "code",
   "execution_count": null,
   "metadata": {
    "cell_id": "229354c94ccd4b93b16f4b782278d1f7",
    "deepnote_cell_type": "code"
   },
   "outputs": [],
   "source": [
    "for i in range(1, 10, 2): \n",
    "    print(\"Numărul este\", i)"
   ]
  },
  {
   "cell_type": "markdown",
   "metadata": {
    "cell_id": "211d49d5da6740abb2339e88505a51c2",
    "deepnote_cell_type": "markdown"
   },
   "source": [
    "Comanda `break` face ca secvența de execuție să iasă din bucla curentă și comanda `continue` face ca execuția să sară peste următoarele comenzi din iterație."
   ]
  },
  {
   "cell_type": "markdown",
   "metadata": {
    "cell_id": "8af0dcda6b594c588d964266703472e9",
    "deepnote_cell_type": "markdown"
   },
   "source": [
    "### Exercițiu E1\n",
    "\n",
    "Să se scrie numerele de la 1 la 30 dar atunci când numărul este divizibil cu 2 să se scrie în loc \"Fizz\" și când este divizibil cu 3 să se scrie \"Buzz\", când este divizibil cu ambele să se scrie \"FizzBuzz\".\n",
    "\n",
    "Obs.: Ștergeți linia cu cuvântul cheie `raise` și introduceți codul dumneavoastră în locul ei."
   ]
  },
  {
   "cell_type": "code",
   "execution_count": null,
   "metadata": {
    "cell_id": "2ae84d7583f247b19275837015dbefd1",
    "deepnote_cell_type": "code"
   },
   "outputs": [],
   "source": [
    "raise NotImplementedError(\"Scrieți codul în locul acestei linii\")"
   ]
  },
  {
   "cell_type": "markdown",
   "metadata": {
    "cell_id": "364659bfc25840af97694097c0e747a5",
    "deepnote_cell_type": "markdown"
   },
   "source": [
    "Liste, tupluri\n",
    "------------------\n",
    "\n",
    "Lista este o structură de date ce poate conține un număr variabil de date primitive. Aceste date se accesează cu un număr natural numit și index. Ele sunt asemănătoare cu matricile din C dar sunt rediminsionabile și elementele pot avea tipuri diferite.\n",
    "\n",
    "Listele se crează astfel:"
   ]
  },
  {
   "cell_type": "code",
   "execution_count": null,
   "metadata": {
    "cell_id": "2366c3b8068546d9b14525de632215e0",
    "deepnote_cell_type": "code",
    "deepnote_to_be_reexecuted": false,
    "execution_millis": 2,
    "execution_start": 1665384411985,
    "source_hash": "7d45f9dd"
   },
   "outputs": [],
   "source": [
    "o_lista = [1, 2, 'trei', 4, 5] \n",
    "o_lista_goala = []\n",
    "print(\"o listă:\",o_lista)\n",
    "print(\"o listă goală:\", o_lista_goala)"
   ]
  },
  {
   "cell_type": "markdown",
   "metadata": {
    "cell_id": "a0c0464801224860b58003a730f58ab7",
    "deepnote_cell_type": "markdown"
   },
   "source": [
    "Elementele se citesc folosind convenția din C. Primul element corespunde indexului 0."
   ]
  },
  {
   "cell_type": "code",
   "execution_count": null,
   "metadata": {
    "cell_id": "da17362148974995a8874b4ab7f2be34",
    "deepnote_cell_type": "code"
   },
   "outputs": [],
   "source": [
    "print(\"Primul element:\", o_lista[0])\n",
    "print(\"Al treilea:\",     o_lista[2])"
   ]
  },
  {
   "cell_type": "markdown",
   "metadata": {
    "cell_id": "0e370d3da8554ff8ad06fba42bb8b34e",
    "deepnote_cell_type": "markdown"
   },
   "source": [
    "Se poate obține și lungimea listei."
   ]
  },
  {
   "cell_type": "code",
   "execution_count": null,
   "metadata": {
    "cell_id": "129dcfa3ea634075ac4b2126208f9e5c",
    "deepnote_cell_type": "code"
   },
   "outputs": [],
   "source": [
    "print(\"Lungimea listei:\", len(o_lista))"
   ]
  },
  {
   "cell_type": "markdown",
   "metadata": {
    "cell_id": "d05781353b3b42d38c67e58ced4b455d",
    "deepnote_cell_type": "markdown"
   },
   "source": [
    "Se poate rescrie elemente din listă ca mai jos. Dacă indexul este mai mare ca numărul de elemente Python va da eroare."
   ]
  },
  {
   "cell_type": "code",
   "execution_count": null,
   "metadata": {
    "cell_id": "c4d714b6471d42b39e694d1e25533c79",
    "deepnote_cell_type": "code",
    "deepnote_to_be_reexecuted": false,
    "execution_millis": 2,
    "execution_start": 1665384429891,
    "output_cleared": true,
    "source_hash": "1a78ab23"
   },
   "outputs": [],
   "source": [
    "o_lista[2] = 3\n",
    "print(\"Al treilea element:\", o_lista[2])\n",
    "print(\"Lista nouă\", o_lista)"
   ]
  },
  {
   "cell_type": "markdown",
   "metadata": {
    "cell_id": "82cabe5724594002a998aa2103f45c68",
    "deepnote_cell_type": "markdown",
    "tags": []
   },
   "source": [
    "Pentru a adăuga elemente la listă se poate folosi metoda `append`. Aceasta adaugă un element la sfârșit. "
   ]
  },
  {
   "cell_type": "code",
   "execution_count": null,
   "metadata": {
    "cell_id": "7d0b1fd9c021486fb3041894cbf3fddf",
    "deepnote_cell_type": "code",
    "deepnote_to_be_reexecuted": false,
    "execution_millis": 337,
    "execution_start": 1665480042462,
    "output_cleared": true,
    "source_hash": "2850b00a"
   },
   "outputs": [],
   "source": [
    "o_lista = [1,2,3,4,5]\n",
    "o_lista.append(7) # adăugarea de elemente\n",
    "print(\"Lista nouă\", o_lista)\n",
    "print(\"Lungimea listei:\", len(o_lista))\n",
    "print(\"Al saselea element:\", o_lista[5])"
   ]
  },
  {
   "cell_type": "markdown",
   "metadata": {
    "cell_id": "609f6ac9ff484bfc9ee78dc856e2a261",
    "deepnote_cell_type": "markdown",
    "tags": []
   },
   "source": [
    "O listă se poate genera folisind și o sintaxă specială numită comprehensie."
   ]
  },
  {
   "cell_type": "code",
   "execution_count": null,
   "metadata": {
    "cell_id": "12f4914835cf40b49b7e87ff51ba4cc3",
    "deepnote_cell_type": "code",
    "deepnote_to_be_reexecuted": false,
    "execution_millis": 68,
    "execution_start": 1666076239427,
    "source_hash": "473135f1",
    "tags": []
   },
   "outputs": [],
   "source": [
    "o_lista = [i**2 for i in range(5)]\n",
    "print('o_lista=', o_lista)"
   ]
  },
  {
   "cell_type": "markdown",
   "metadata": {
    "cell_id": "40d48f13600c4c59866d36f8d96ab74b",
    "deepnote_cell_type": "markdown"
   },
   "source": [
    "Un tuplu este la fel ca o listă doar că o dată ce a fost definită nu se mai poate schimba (Python va da o eroare)."
   ]
  },
  {
   "cell_type": "code",
   "execution_count": null,
   "metadata": {
    "cell_id": "f0022d12f90249a9914a54a5c13f8de5",
    "deepnote_cell_type": "code"
   },
   "outputs": [],
   "source": [
    "un_tuplu = (\"unu\",\"doi\",\"trei\")\n",
    "print(\"Primul element:\", un_tuplu[0])\n",
    "print(\"Al treilea:\", un_tuplu[2])\n",
    "print(\"Lungimea tuplului:\", len(un_tuplu))"
   ]
  },
  {
   "cell_type": "markdown",
   "metadata": {
    "cell_id": "6a98095040204796810d9f0e4585d463",
    "deepnote_cell_type": "markdown"
   },
   "source": [
    "### Exercițiu E2\n",
    "\n",
    "Să se genereze o listă numită `fact_list` cu factorialul numerelor de la 1 la 10 inclusiv, unde factorialul este definit astfel:\n",
    "$$\n",
    "0! = 1! = 1 ;\\newline\n",
    "n! = 1 \\times ... \\times n\n",
    "$$\n",
    "Statementurile `assert` vor da o eroare dacă prima expresie din statement este falsă și sunt folosite pentru a vă verifica. "
   ]
  },
  {
   "cell_type": "code",
   "execution_count": null,
   "metadata": {
    "cell_id": "5cbc506a9ee34f26b655302863c39af1",
    "deepnote_cell_type": "code",
    "deepnote_to_be_reexecuted": false,
    "execution_millis": 104,
    "execution_start": 1668499647199,
    "output_cleared": false,
    "source_hash": "6929426b"
   },
   "outputs": [],
   "source": [
    "raise NotImplementedError(\"Scrieți codul în locul acestei linii\")\n",
    "\n",
    "\n",
    "#Test\n",
    "print(\"fact_list=\",fact_list)\n",
    "assert fact_list == [1, 2, 6, 24, 120, 720, 5040, 40320, 362880, 3628800], \"Incorect\"\n",
    "print(\"OK\")"
   ]
  },
  {
   "cell_type": "markdown",
   "metadata": {
    "cell_id": "04e806088818441dba31e8301d8f32ed",
    "deepnote_cell_type": "markdown"
   },
   "source": [
    "Funcții\n",
    "----------------\n",
    "\n",
    "Funcțiile se declară și se apelează astfel:"
   ]
  },
  {
   "cell_type": "code",
   "execution_count": null,
   "metadata": {
    "cell_id": "f150aaf493b94cf5a5daf25b85fecf93",
    "deepnote_cell_type": "code"
   },
   "outputs": [],
   "source": [
    "def norma_euclidiana(x, y):\n",
    "    \"Această funcție returnează norma euclidiană pentru cei doi argumenți.\"\n",
    "    sp = (x**2 + y**2)**0.5\n",
    "    return sp\n",
    "    \n",
    "norma_euclidiana(4, 3)"
   ]
  },
  {
   "cell_type": "markdown",
   "metadata": {},
   "source": [
    "Sirul ce urmează după declarație este șirul de documentare și se poate afișa prin funcția `help`:"
   ]
  },
  {
   "cell_type": "code",
   "execution_count": null,
   "metadata": {},
   "outputs": [],
   "source": [
    "help(norma_euclidiana)"
   ]
  },
  {
   "cell_type": "markdown",
   "metadata": {
    "cell_id": "eac5c8ba40254be2be5efdc513532cf4",
    "deepnote_cell_type": "markdown"
   },
   "source": [
    "Funcțiile intrinseci și cele din biblioteci au instrucțiuni de utilizare ce se pot accesa astfel."
   ]
  },
  {
   "cell_type": "code",
   "execution_count": null,
   "metadata": {
    "cell_id": "6d1b9438465c47f8a583716184c0cedf",
    "deepnote_cell_type": "code"
   },
   "outputs": [],
   "source": [
    "help(max)"
   ]
  },
  {
   "cell_type": "markdown",
   "metadata": {},
   "source": [
    "Aflăm astfel că `max` dă cel mai mare element dintr-o listă, de exemplu."
   ]
  },
  {
   "cell_type": "code",
   "execution_count": null,
   "metadata": {},
   "outputs": [],
   "source": [
    "max([1, 2, 4, 3])"
   ]
  },
  {
   "cell_type": "markdown",
   "metadata": {
    "cell_id": "56d50a78bb89411799e699184a2f6030",
    "deepnote_cell_type": "markdown"
   },
   "source": [
    "O funcție returnează un singur rezultat dar dacă este nevoie de mai multe rezultate se pot folosi tupluri."
   ]
  },
  {
   "cell_type": "code",
   "execution_count": null,
   "metadata": {
    "cell_id": "e51228066847442d8f5108195339683f",
    "deepnote_cell_type": "code"
   },
   "outputs": [],
   "source": [
    "def cat_rest(d,i):\n",
    "    return (d // i, d % i)\n",
    "\n",
    "(c, r) = cat_rest(3,2) #Trebuie potrivita lungimea tuplului\n",
    "print(\"Cât:\", c)\n",
    "print(\"Rest:\",r)"
   ]
  },
  {
   "cell_type": "markdown",
   "metadata": {
    "cell_id": "fdee6ca775424dfeb4b12f04e7e5b972",
    "deepnote_cell_type": "markdown"
   },
   "source": [
    "### Exercitiu E3\n",
    "\n",
    "a) Afișați insturcțiunile de utilizare pentru funcțiile instrinseci `len`, `max`, `min`, `sum`."
   ]
  },
  {
   "cell_type": "code",
   "execution_count": null,
   "metadata": {
    "cell_id": "161afd6171134ba49388ee23f6a44b66",
    "deepnote_cell_type": "code"
   },
   "outputs": [],
   "source": [
    "raise NotImplementedError(\"Scrieți codul în locul acestei linii\")"
   ]
  },
  {
   "cell_type": "markdown",
   "metadata": {
    "cell_id": "bea3a63191ea40859d33e64f89ae32f4",
    "deepnote_cell_type": "markdown"
   },
   "source": [
    "b) Faceți o functie care să returneze media elementelor și diferenta între maxim și minim pentru un tuplu de numere."
   ]
  },
  {
   "cell_type": "code",
   "execution_count": null,
   "metadata": {
    "cell_id": "7fa03391dbd44c2bb82eac8a0084b54b",
    "deepnote_cell_type": "code",
    "deepnote_to_be_reexecuted": false,
    "execution_millis": 1169,
    "execution_start": 1664963057640,
    "output_cleared": true,
    "source_hash": "49f5e2cb"
   },
   "outputs": [],
   "source": [
    "def funcE2(un_tuplu):\n",
    "    \n",
    "    raise NotImplementedError(\"Scrieți codul în locul acestei linii\")\n",
    "\n",
    "# Test\n",
    "assert funcE2((2,3,4,5)) == (3.5, 3), \"T1 Incorect\"\n",
    "assert funcE2((5,6,7)) == (6,2), \"T2 Incorect\"\n",
    "print(\"OK\")"
   ]
  },
  {
   "cell_type": "markdown",
   "metadata": {
    "cell_id": "ed15b8e9efc849c78c64e52dc19310ca",
    "deepnote_cell_type": "markdown"
   },
   "source": [
    "Operații cu matrici\n",
    "---------------------------\n",
    "\n",
    "Numpy este o bibliotecă ce implementează operații matriciale acestea fiind foarte utile in calcule numerice și simulări. "
   ]
  },
  {
   "cell_type": "code",
   "execution_count": null,
   "metadata": {
    "cell_id": "8c4a835edb674ef5a153023af67c2998",
    "deepnote_cell_type": "code",
    "deepnote_to_be_reexecuted": false,
    "execution_millis": 0,
    "execution_start": 1665385616205,
    "output_cleared": true,
    "source_hash": "3e35bd7b"
   },
   "outputs": [],
   "source": [
    "import numpy as np # Se importă biblioteca și se redenumește cu un alias mai scurt"
   ]
  },
  {
   "cell_type": "markdown",
   "metadata": {
    "cell_id": "d5a1567dc02d477a8232ded4818c961b",
    "deepnote_cell_type": "markdown",
    "tags": []
   },
   "source": [
    "Biblioteca se bazează pe un tip de date numit `array` (matrice). O matrice se poate genera în multe moduri printre care:"
   ]
  },
  {
   "cell_type": "code",
   "execution_count": null,
   "metadata": {
    "cell_id": "cafd9b6cbfbb473ab6545f152b5fa794",
    "deepnote_cell_type": "code",
    "deepnote_to_be_reexecuted": false,
    "execution_millis": 4,
    "execution_start": 1664962850617,
    "output_cleared": true,
    "source_hash": "a02fa635",
    "tags": []
   },
   "outputs": [],
   "source": [
    "# matrice cu o singură dimensune\n",
    "a = np.array((1,2, 3)) \n",
    "print(\"a:\\n\", a)"
   ]
  },
  {
   "cell_type": "code",
   "execution_count": null,
   "metadata": {
    "cell_id": "6cdaf9e6939c4617b59580e999f7ae13",
    "deepnote_cell_type": "code",
    "deepnote_to_be_reexecuted": false,
    "execution_millis": 2,
    "execution_start": 1664962850623,
    "output_cleared": true,
    "source_hash": "78b9b6a9",
    "tags": []
   },
   "outputs": [],
   "source": [
    "# matrice cu două dimensiuni\n",
    "b = np.array(\n",
    "          ((1,2,3),\n",
    "           (4,5,6),\n",
    "           (7,8,9))) \n",
    "print(\"b:\\n\",b)"
   ]
  },
  {
   "cell_type": "code",
   "execution_count": null,
   "metadata": {
    "cell_id": "0fe17a59bcfe4862b737823cbd1257e8",
    "deepnote_cell_type": "code",
    "deepnote_to_be_reexecuted": false,
    "execution_millis": 3,
    "execution_start": 1664962850708,
    "output_cleared": true,
    "source_hash": "814c7b01",
    "tags": []
   },
   "outputs": [],
   "source": [
    "# matricea identitate cu trei rânduri și trei coloane\n",
    "c = np.eye(3) \n",
    "print(\"c:\\n\", c)"
   ]
  },
  {
   "cell_type": "code",
   "execution_count": null,
   "metadata": {
    "cell_id": "a06813ed5b5c4933a65c6438e4137fb6",
    "deepnote_cell_type": "code",
    "deepnote_to_be_reexecuted": false,
    "execution_millis": 2,
    "execution_start": 1664962850751,
    "output_cleared": true,
    "source_hash": "f18fd018",
    "tags": []
   },
   "outputs": [],
   "source": [
    "# matrice cu zerouri cu două rânduri și trei coloane\n",
    "d = np.zeros((2,3)) \n",
    "print(\"d:\\n\", d)"
   ]
  },
  {
   "cell_type": "markdown",
   "metadata": {
    "cell_id": "49a1a680f9544eecb41f0773d8ee4af9",
    "deepnote_cell_type": "markdown"
   },
   "source": [
    "O metodă de a genera matrici ce o vom folosi frecvent este să generăm un șir aritmetic cu funcția `arange`. Funcția `np.arange(l,r,d)` generează un șir aritmetic cu premul element `l` cu pasul `d` și cu elementele mai mici ca `r`. "
   ]
  },
  {
   "cell_type": "code",
   "execution_count": null,
   "metadata": {
    "cell_id": "410261c308de4ab2bd1ce941af89697d",
    "deepnote_cell_type": "code"
   },
   "outputs": [],
   "source": [
    "e = np.arange(0, 3, 0.25) # matrice cu o secvența de valori\n",
    "print(\"e:\\n\",e)"
   ]
  },
  {
   "cell_type": "markdown",
   "metadata": {
    "cell_id": "67a3521589c143adaa6209b5f62c5bb4",
    "deepnote_cell_type": "markdown"
   },
   "source": [
    "Dimensiunile și tipul de elemente se pot afla prin accesarea propietăților."
   ]
  },
  {
   "cell_type": "code",
   "execution_count": null,
   "metadata": {
    "cell_id": "d43b5c759c89454fb7f80f89f2db6fc9",
    "deepnote_cell_type": "code"
   },
   "outputs": [],
   "source": [
    "print(\"Nr. de elemente:\", d.size)\n",
    "print(\"Nr. de dimensiuni:\", d.ndim)\n",
    "print(\"Lungimea pe fiecare dimensiune:\", d.shape) \n",
    "print(\"Tipul de date al elementelor:\", d.dtype)"
   ]
  },
  {
   "cell_type": "markdown",
   "metadata": {
    "cell_id": "f8eb1a72375b46a483d9edb253514f43",
    "deepnote_cell_type": "markdown"
   },
   "source": [
    "Elementul unei matrici se accesează astfel."
   ]
  },
  {
   "cell_type": "code",
   "execution_count": null,
   "metadata": {
    "cell_id": "10bf3a1fd383431fbec913730bf09d84",
    "deepnote_cell_type": "code",
    "deepnote_to_be_reexecuted": false,
    "execution_millis": 5,
    "execution_start": 1664867709054,
    "output_cleared": true,
    "source_hash": "b3f33c78"
   },
   "outputs": [],
   "source": [
    "print(\"b[1,0]: \", b[1,0])\n",
    "b[1,0]=0\n",
    "print(\"b =\")\n",
    "print(b)\n",
    "b[1,0]=4\n",
    "b"
   ]
  },
  {
   "cell_type": "markdown",
   "metadata": {
    "cell_id": "4dcbf4e6218a4ffa800cf411e165a66d",
    "deepnote_cell_type": "markdown"
   },
   "source": [
    "Se pot accesa și submatrici."
   ]
  },
  {
   "cell_type": "code",
   "execution_count": null,
   "metadata": {
    "cell_id": "241467306c0d4eec912586657e37b798",
    "deepnote_cell_type": "code"
   },
   "outputs": [],
   "source": [
    "b[0:2,0:2]"
   ]
  },
  {
   "cell_type": "markdown",
   "metadata": {
    "cell_id": "bb2cd65a189f4fdebd419dc90aaaf0d1",
    "deepnote_cell_type": "markdown",
    "tags": []
   },
   "source": [
    "Se pot scoate elementele care îndeplinesc o condiție într-un vector. "
   ]
  },
  {
   "cell_type": "code",
   "execution_count": null,
   "metadata": {
    "cell_id": "f456d397725748c89d44c2eeadecee06",
    "deepnote_cell_type": "code",
    "tags": []
   },
   "outputs": [],
   "source": [
    "b[b > 5]"
   ]
  },
  {
   "cell_type": "markdown",
   "metadata": {
    "cell_id": "0e9d449f0d594c6885ef3586e6105d4f",
    "deepnote_cell_type": "markdown"
   },
   "source": [
    "Câteva operații sunt afișate mai jos ([mai multe sunt aici][1]).\n",
    "\n",
    "[1]: https://numpy.org/doc/stable/user/quickstart.html#basic-operations"
   ]
  },
  {
   "cell_type": "code",
   "execution_count": null,
   "metadata": {
    "cell_id": "853cf13a35004a8cb3d1f6e65c4110fd",
    "deepnote_cell_type": "code"
   },
   "outputs": [],
   "source": [
    "b + c # Adunare element cu element"
   ]
  },
  {
   "cell_type": "code",
   "execution_count": null,
   "metadata": {
    "cell_id": "3df96dac3254411989e5860f1f730621",
    "deepnote_cell_type": "code"
   },
   "outputs": [],
   "source": [
    "2 * b # Înmulțire scalară"
   ]
  },
  {
   "cell_type": "code",
   "execution_count": null,
   "metadata": {
    "cell_id": "51f429b8a52c43cdba1b8832a4efae86",
    "deepnote_cell_type": "code"
   },
   "outputs": [],
   "source": [
    "b * c # Inmulțire element cu element"
   ]
  },
  {
   "cell_type": "code",
   "execution_count": null,
   "metadata": {
    "cell_id": "c8f522d2854c46c8a1323cec6741b559",
    "deepnote_cell_type": "code"
   },
   "outputs": [],
   "source": [
    "b @ c # Inmulțire matriceală"
   ]
  },
  {
   "cell_type": "code",
   "execution_count": null,
   "metadata": {
    "cell_id": "651db7a3debc4cf2b774ee2dcc055557",
    "deepnote_cell_type": "code"
   },
   "outputs": [],
   "source": [
    "a @ b  # Inmultire vector linie cu  matrice"
   ]
  },
  {
   "cell_type": "code",
   "execution_count": null,
   "metadata": {
    "cell_id": "24e81c4589c04751854566eb55c350b1",
    "deepnote_cell_type": "code"
   },
   "outputs": [],
   "source": [
    "b @ a # Inmultire matrice cu vector coloană"
   ]
  },
  {
   "cell_type": "markdown",
   "metadata": {
    "cell_id": "063c920d212c4a549220221b4c9e4676",
    "deepnote_cell_type": "markdown"
   },
   "source": [
    "Numpy conține, de asemenea, funcții și constante matematice."
   ]
  },
  {
   "cell_type": "code",
   "execution_count": null,
   "metadata": {
    "cell_id": "62d8f113a8cf4883af33472372434fcd",
    "deepnote_cell_type": "code",
    "scrolled": true
   },
   "outputs": [],
   "source": [
    "x = np.arange(0,5,0.5)\n",
    "y = np.sin(np.pi*x)\n",
    "print(y)"
   ]
  },
  {
   "cell_type": "markdown",
   "metadata": {
    "cell_id": "75b4a907c79245e6a9511a1d3a1e5d13",
    "deepnote_cell_type": "markdown"
   },
   "source": [
    "### Exercițiu E4\n",
    "\n",
    "Să se genereze trei matrice cu 5 linii și 5 coloane cu următoarele criterii:\n",
    "\n",
    "- Matricea A: fiecare element este egal cu suma dintre \n",
    "    indexul liniei și indexul coloanei aferente \n",
    "    (se  folosesc două structuri `for`).\n",
    "    \n",
    "- Matricea B: elementele de pe diagonala principal și deasupra ei \n",
    "    sunt egale cu 1, iar elementele de dedesubtul diagonalei \n",
    "    principale sunt egale cu -1 (se folosesc două intrucțiuni `for` și\n",
    "    o instrucțiune `if-else`)\n",
    "    \n",
    "- Matricea C: Să se înmulțească element cu element cele două matrice.\n"
   ]
  },
  {
   "cell_type": "code",
   "execution_count": null,
   "metadata": {
    "cell_id": "fb807364d41d470daff0da8ae5f8e890",
    "deepnote_cell_type": "code",
    "deepnote_to_be_reexecuted": false,
    "execution_millis": 15,
    "execution_start": 1665473880359,
    "output_cleared": true,
    "source_hash": "5589a49"
   },
   "outputs": [],
   "source": [
    "raise NotImplementedError(\"Scrieți codul în locul acestei linii\")\n",
    "\n",
    "#Test\n",
    "assert np.allclose(A,  [[0, 1, 2, 3, 4],\n",
    "                        [1, 2, 3, 4, 5],\n",
    "                        [2, 3, 4, 5, 6],\n",
    "                        [3, 4, 5, 6, 7],\n",
    "                        [4, 5, 6, 7, 8]]),\"T1 Incorect\"\n",
    "assert  np.allclose(B, [[1,  1,  1,  1,  1],\n",
    "                        [-1, 1,  1,  1,  1],\n",
    "                        [-1, -1, 1,  1,  1],\n",
    "                        [-1, -1, -1, 1,  1],\n",
    "                        [-1, -1, -1, -1, 1]]), \"T2 Incorect\"\n",
    "assert np.allclose(C,  [[ 0,  1,  2,  3,  4],\n",
    "                        [-1,  2,  3,  4,  5],\n",
    "                        [-2, -3,  4,  5,  6],\n",
    "                        [-3, -4, -5,  6,  7],\n",
    "                        [-4, -5, -6, -7,  8]]), \"T3 Incorect\"\n",
    "print(\"OK\")"
   ]
  },
  {
   "cell_type": "markdown",
   "metadata": {
    "cell_id": "b71682190b184f1d9d33252f3ab10588",
    "deepnote_cell_type": "markdown"
   },
   "source": [
    "Generarea de grafice\n",
    "----------\n",
    "\n",
    "Biblioteca `matplotlib` este o bibliotecă ce permite crearea ușoară de grafice. Implicit, graficele vor fi afișate sub celula în care se implementează graficul.\n"
   ]
  },
  {
   "cell_type": "code",
   "execution_count": null,
   "metadata": {
    "cell_id": "a17eb6cbee164519bef1f74601ba9d78",
    "deepnote_cell_type": "code",
    "deepnote_to_be_reexecuted": false,
    "execution_millis": 659,
    "execution_start": 1664875657790,
    "output_cleared": true,
    "scrolled": true,
    "source_hash": "32907a4e"
   },
   "outputs": [],
   "source": [
    "import matplotlib.pyplot as plt\n",
    "\n",
    "x = np.arange(0,5,0.1)\n",
    "y = np.sin(np.pi*x)\n",
    "\n",
    "plt.figure() # Cadrul în care se pun elementele grafice\n",
    "plt.plot(x,y, \n",
    "         color='green', \n",
    "         marker='.', # Forma markerului pentru fiecare punctX\n",
    "         linestyle = '-.' # Forma liniei\n",
    "        ) # Graficul propiu-zis\n",
    "plt.title(\"Un semnal analogic\") \n",
    "plt.xlabel(\"Timp (ms)\") \n",
    "plt.ylabel(\"Tensiunea (V)\") # Etichetele de pe axe\n"
   ]
  },
  {
   "cell_type": "markdown",
   "metadata": {
    "cell_id": "14cc5a7d0f0045738605e367f5b50ccc",
    "deepnote_cell_type": "markdown"
   },
   "source": [
    "Pentru funcții discrete se folosește `stem` pentru a face un grafic cu bețe."
   ]
  },
  {
   "cell_type": "code",
   "execution_count": null,
   "metadata": {
    "cell_id": "8f855fb2658a492fa0da0efdd06ddd51",
    "deepnote_cell_type": "code",
    "deepnote_to_be_reexecuted": false,
    "execution_millis": 1004,
    "execution_start": 1664875687711,
    "output_cleared": true,
    "source_hash": "3cbd0d75"
   },
   "outputs": [],
   "source": [
    "x1 = np.arange(0,5,0.1)\n",
    "y1 = np.sin(np.pi*x+np.pi/4)\n",
    "\n",
    "plt.figure() # Cadrul în care se pun elementele grafice\n",
    "plt.stem(x1,y1,\n",
    "         markerfmt='+', # Forma  și culoarea markerului \n",
    "         linefmt = 'b' # Forma și culoarea liniei\n",
    "        ) # Graficul propiu-zis\n",
    "plt.title(\"Semnal digital\") \n",
    "plt.xlabel(\"Eșantion\") \n",
    "plt.ylabel(\"Valoare\") # Etichetele de pe axe\n"
   ]
  },
  {
   "cell_type": "markdown",
   "metadata": {
    "cell_id": "2b8fa9d2d6b0488688e1c0ca9285e5d5",
    "deepnote_cell_type": "markdown"
   },
   "source": [
    "Dacă se pun comenzi de grafice fără a genera o nouă figură atunci graficele se vor suprapune."
   ]
  },
  {
   "cell_type": "code",
   "execution_count": null,
   "metadata": {
    "cell_id": "f4b8c8a304b84fda8987237bd8d6bb88",
    "deepnote_cell_type": "code",
    "deepnote_to_be_reexecuted": false,
    "execution_millis": 276,
    "execution_start": 1664875692684,
    "output_cleared": true,
    "source_hash": "c1e57205"
   },
   "outputs": [],
   "source": [
    "plt.figure()\n",
    "plt.plot(x,y,color='orange')\n",
    "plt.stem(x1,y1)\n",
    "\n",
    "plt.xlabel(\"Timp (ms)\")\n",
    "plt.ylabel(\"Tensiune (V)\")"
   ]
  },
  {
   "cell_type": "markdown",
   "metadata": {
    "cell_id": "97f6d09e578549cf86fe0fd9180f34c5",
    "deepnote_cell_type": "markdown"
   },
   "source": [
    "### Exercițiu E5\n",
    "\n",
    "Să se genereze următoarele două funcții:\n",
    "$$\n",
    "f_1\\left(t\\right) = \\cos\\left( \\frac{2\\pi t}{T} \\right) + \\sin\\left( \\frac{2\\pi t}{T} \\right); \\newline\n",
    "f_2\\left(t\\right) = \\cos\\left( \\frac{2\\pi t}{T} \\right) - \\sin\\left( \\frac{2\\pi t}{T} \\right)\n",
    "$$\n",
    "\n",
    "Variabila t va lua valori cuprinse între 0 și 15 secunde cu pas de 0.1s, perioada T  va fi  de 5s. Cele două funcții de vor reprezenta pe același grafic în culori diferite."
   ]
  },
  {
   "cell_type": "code",
   "execution_count": null,
   "metadata": {
    "cell_id": "a8ceb5c9189f41298f7d6c4de2685a0e",
    "deepnote_cell_type": "code"
   },
   "outputs": [],
   "source": [
    "raise NotImplementedError(\"Scrieți codul în locul acestei linii\")"
   ]
  },
  {
   "cell_type": "markdown",
   "metadata": {
    "cell_id": "4a619e8475ec4202a42649df2a3886d6",
    "deepnote_cell_type": "markdown"
   },
   "source": [
    "Prelucrarea imaginilor\n",
    "---------------------------\n",
    "\n",
    "O imagine poate fi citită din fișier prin funcția `imread` din Matplotlib. Ea va fi reprezentată ca o matricie bidimensională pentru o imagine tonuri de gri și ca o matrice tridimensională pentru o imagine color.\n",
    "\n",
    "Ultima dimensiune reprezintă banda de culoare. Prima bandă este banda roșie (R), apoi banda Verde (G) și ultima este banda albastră (B). Elementele sunt numere întregi de la 0 (cel mai întunecat) la 255 (cel mai intens).\n",
    "\n",
    "Imaginea poate fi afișată într-o figură folosing funcția `imshow`.\n",
    "\n",
    "![bird.jpg](./bird.jpg)"
   ]
  },
  {
   "cell_type": "code",
   "execution_count": null,
   "metadata": {
    "cell_id": "c1753f4c8be44cb48b70a36c701c3300",
    "deepnote_cell_type": "code"
   },
   "outputs": [],
   "source": [
    "from imageio import imread\n",
    "rgbImg = imread(\"https://upload.wikimedia.org/wikipedia/commons/thumb/5/5a/Ara_ararauna_-Blue-and-gold_Macaw_-head_and_neck.jpg/320px-Ara_ararauna_-Blue-and-gold_Macaw_-head_and_neck.jpg\")\n",
    "print(\"Dimensiuni :\", rgbImg.shape)\n",
    "print(\"Minim:\", rgbImg.min(),\"\\tMaxim:\",rgbImg.max())\n",
    "plt.figure()\n",
    "plt.imshow(rgbImg)"
   ]
  },
  {
   "cell_type": "code",
   "execution_count": null,
   "metadata": {
    "cell_id": "e977f97a68154864af09f6d516ba4a5a",
    "deepnote_cell_type": "code"
   },
   "outputs": [],
   "source": [
    "# Generarea unei imagini cu tonuri de gri\n",
    "grayImg = rgbImg.mean(2)\n",
    "print(\"Dimensiuni :\", grayImg.shape)\n",
    "print(\"Minim:\", grayImg.min(), \"\\tMaxim:\", grayImg.max())"
   ]
  },
  {
   "cell_type": "markdown",
   "metadata": {
    "cell_id": "6dbabc5b6f5849aebd1dd832496a23e3",
    "deepnote_cell_type": "markdown"
   },
   "source": [
    "In mod normal o matrice bidimensonală este afișată cu reprezentare pseoudocolor. Aceasta este o reprezentare cu contrast mai mare decât tonurile de gri."
   ]
  },
  {
   "cell_type": "code",
   "execution_count": null,
   "metadata": {
    "cell_id": "65c0dd308f614eccb54c925d77b88eb5",
    "deepnote_cell_type": "code"
   },
   "outputs": [],
   "source": [
    "plt.figure()\n",
    "plt.imshow(grayImg)"
   ]
  },
  {
   "cell_type": "markdown",
   "metadata": {
    "cell_id": "23fc17066e4d45bb93098751116531ea",
    "deepnote_cell_type": "markdown"
   },
   "source": [
    "Pentru a afișa tonurile de gri este necesar să se seteze argumentul `cmap`."
   ]
  },
  {
   "cell_type": "code",
   "execution_count": null,
   "metadata": {
    "cell_id": "1c75f5f4305b4c55a429962895a8461c",
    "deepnote_cell_type": "code"
   },
   "outputs": [],
   "source": [
    "plt.figure()\n",
    "plt.imshow(grayImg, cmap=\"gray\")"
   ]
  },
  {
   "cell_type": "markdown",
   "metadata": {
    "cell_id": "482bf8e1532e4a818a9efe4a4c27944d",
    "deepnote_cell_type": "markdown"
   },
   "source": [
    "Resurse\n",
    "-------------\n",
    "- Python: https://docs.python.org/3/tutorial/\n",
    "- Numpy: https://numpy.org/doc/stable/user/quickstart.html\n",
    "- Matplotlib: https://matplotlib.org/tutorials/index.html\n"
   ]
  }
 ],
 "metadata": {
  "deepnote": {},
  "deepnote_execution_queue": [],
  "deepnote_notebook_id": "3b74d95e91f147179d77039e48c1bdee",
  "deepnote_persisted_session": {
   "createdAt": "2022-11-15T08:31:09.505Z"
  },
  "kernelspec": {
   "display_name": "Python 3 (ipykernel)",
   "language": "python",
   "name": "python3"
  },
  "language_info": {
   "codemirror_mode": {
    "name": "ipython",
    "version": 3
   },
   "file_extension": ".py",
   "mimetype": "text/x-python",
   "name": "python",
   "nbconvert_exporter": "python",
   "pygments_lexer": "ipython3",
   "version": "3.10.14"
  }
 },
 "nbformat": 4,
 "nbformat_minor": 4
}
